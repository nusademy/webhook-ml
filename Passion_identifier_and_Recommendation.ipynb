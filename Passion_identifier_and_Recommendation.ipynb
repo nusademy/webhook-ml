{
  "nbformat": 4,
  "nbformat_minor": 0,
  "metadata": {
    "kernelspec": {
      "language": "python",
      "display_name": "Python 3",
      "name": "python3"
    },
    "language_info": {
      "name": "python",
      "version": "3.7.10",
      "mimetype": "text/x-python",
      "codemirror_mode": {
        "name": "ipython",
        "version": 3
      },
      "pygments_lexer": "ipython3",
      "nbconvert_exporter": "python",
      "file_extension": ".py"
    },
    "colab": {
      "name": "Passion-identifier-and-Recommendation.ipynb",
      "provenance": [],
      "collapsed_sections": [
        "r8VJUQj8bV_R",
        "JHCdCHYfT1H7",
        "oHgtn40RduKw",
        "zNoqVkUdW5Fn"
      ],
      "toc_visible": true
    },
    "accelerator": "TPU"
  },
  "cells": [
    {
      "cell_type": "markdown",
      "metadata": {
        "id": "r8VJUQj8bV_R"
      },
      "source": [
        "# Load the datasets from Kaggle"
      ]
    },
    {
      "cell_type": "code",
      "metadata": {
        "id": "_KdfpZnE1AUY",
        "colab": {
          "base_uri": "https://localhost:8080/"
        },
        "outputId": "0b4f62fe-ee3c-4b82-c0d7-0827e14a51c0"
      },
      "source": [
        "nfrom google.colab import drive\n",
        "drive.mount('/content/drive')"
      ],
      "execution_count": null,
      "outputs": [
        {
          "output_type": "stream",
          "text": [
            "Go to this URL in a browser: https://accounts.google.com/o/oauth2/auth?client_id=947318989803-6bn6qk8qdgf4n4g3pfee6491hc0brc4i.apps.googleusercontent.com&redirect_uri=urn%3aietf%3awg%3aoauth%3a2.0%3aoob&scope=email%20https%3a%2f%2fwww.googleapis.com%2fauth%2fdocs.test%20https%3a%2f%2fwww.googleapis.com%2fauth%2fdrive%20https%3a%2f%2fwww.googleapis.com%2fauth%2fdrive.photos.readonly%20https%3a%2f%2fwww.googleapis.com%2fauth%2fpeopleapi.readonly%20https%3a%2f%2fwww.googleapis.com%2fauth%2fdrive.activity.readonly%20https%3a%2f%2fwww.googleapis.com%2fauth%2fexperimentsandconfigs%20https%3a%2f%2fwww.googleapis.com%2fauth%2fphotos.native&response_type=code\n",
            "\n",
            "Enter your authorization code:\n",
            "4/1AY0e-g4tY37wYR9nTm7Zz7vI_ZJTuCmrKCR_bxiBtgWrMVFaoKfPh2Poy5A\n",
            "Mounted at /content/drive\n"
          ],
          "name": "stdout"
        }
      ]
    },
    {
      "cell_type": "code",
      "metadata": {
        "id": "3pXyNxeV3A3F",
        "colab": {
          "base_uri": "https://localhost:8080/"
        },
        "outputId": "6e938551-62f5-4ed3-87a0-63dfa8a1101b"
      },
      "source": [
        "%cd /content/drive/My Drive/Kaggle\n"
      ],
      "execution_count": null,
      "outputs": [
        {
          "output_type": "stream",
          "text": [
            "/content/drive/My Drive/Kaggle\n"
          ],
          "name": "stdout"
        }
      ]
    },
    {
      "cell_type": "code",
      "metadata": {
        "id": "O48bMU_Y3SG1",
        "colab": {
          "base_uri": "https://localhost:8080/"
        },
        "outputId": "83856608-d7a1-40c8-de53-496498606b20"
      },
      "source": [
        "import os\n",
        "os.environ['KAGGLE_CONFIG_DIR'] = \"/content/drive/My Drive/Kaggle\"\n",
        "!chmod 600 kaggle.json\n",
        "!ls"
      ],
      "execution_count": null,
      "outputs": [
        {
          "output_type": "stream",
          "text": [
            "kaggle.json  model_EI.pkl  model_JP.pkl  vectorizer_indo.pkl\n",
            "mbti_1.csv   model_FT.pkl  model_NS.pkl  vectorizer.pkl\n"
          ],
          "name": "stdout"
        }
      ]
    },
    {
      "cell_type": "code",
      "metadata": {
        "id": "48kZVTxc6NRi",
        "colab": {
          "base_uri": "https://localhost:8080/"
        },
        "outputId": "14d70a54-3f41-4f6d-cda7-b861ad361a13"
      },
      "source": [
        "!kaggle datasets download -d datasnaek/mbti-type"
      ],
      "execution_count": null,
      "outputs": [
        {
          "output_type": "stream",
          "text": [
            "Downloading mbti-type.zip to /content/drive/My Drive/Kaggle\n",
            " 70% 17.0M/24.4M [00:00<00:00, 61.2MB/s]\n",
            "100% 24.4M/24.4M [00:00<00:00, 80.5MB/s]\n"
          ],
          "name": "stdout"
        }
      ]
    },
    {
      "cell_type": "code",
      "metadata": {
        "id": "4TvqneOR61Zw",
        "colab": {
          "base_uri": "https://localhost:8080/"
        },
        "outputId": "2995a7a0-cca3-40cc-e931-bc2329f80881"
      },
      "source": [
        "!unzip \\*.zip  && rm *.zip"
      ],
      "execution_count": null,
      "outputs": [
        {
          "output_type": "stream",
          "text": [
            "Archive:  mbti-type.zip\n",
            "replace mbti_1.csv? [y]es, [n]o, [A]ll, [N]one, [r]ename: n\n"
          ],
          "name": "stdout"
        }
      ]
    },
    {
      "cell_type": "code",
      "metadata": {
        "id": "PghY4LC_69wY",
        "colab": {
          "base_uri": "https://localhost:8080/",
          "height": 204
        },
        "outputId": "9386b987-8961-4219-ec7c-12047b14d177"
      },
      "source": [
        "import numpy as np \n",
        "import pandas as pd\n",
        "\n",
        "data = pd.read_csv(\"mbti_1.csv\")\n",
        "data.head()"
      ],
      "execution_count": null,
      "outputs": [
        {
          "output_type": "execute_result",
          "data": {
            "text/html": [
              "<div>\n",
              "<style scoped>\n",
              "    .dataframe tbody tr th:only-of-type {\n",
              "        vertical-align: middle;\n",
              "    }\n",
              "\n",
              "    .dataframe tbody tr th {\n",
              "        vertical-align: top;\n",
              "    }\n",
              "\n",
              "    .dataframe thead th {\n",
              "        text-align: right;\n",
              "    }\n",
              "</style>\n",
              "<table border=\"1\" class=\"dataframe\">\n",
              "  <thead>\n",
              "    <tr style=\"text-align: right;\">\n",
              "      <th></th>\n",
              "      <th>type</th>\n",
              "      <th>posts</th>\n",
              "    </tr>\n",
              "  </thead>\n",
              "  <tbody>\n",
              "    <tr>\n",
              "      <th>0</th>\n",
              "      <td>INFJ</td>\n",
              "      <td>'http://www.youtube.com/watch?v=qsXHcwe3krw|||...</td>\n",
              "    </tr>\n",
              "    <tr>\n",
              "      <th>1</th>\n",
              "      <td>ENTP</td>\n",
              "      <td>'I'm finding the lack of me in these posts ver...</td>\n",
              "    </tr>\n",
              "    <tr>\n",
              "      <th>2</th>\n",
              "      <td>INTP</td>\n",
              "      <td>'Good one  _____   https://www.youtube.com/wat...</td>\n",
              "    </tr>\n",
              "    <tr>\n",
              "      <th>3</th>\n",
              "      <td>INTJ</td>\n",
              "      <td>'Dear INTP,   I enjoyed our conversation the o...</td>\n",
              "    </tr>\n",
              "    <tr>\n",
              "      <th>4</th>\n",
              "      <td>ENTJ</td>\n",
              "      <td>'You're fired.|||That's another silly misconce...</td>\n",
              "    </tr>\n",
              "  </tbody>\n",
              "</table>\n",
              "</div>"
            ],
            "text/plain": [
              "   type                                              posts\n",
              "0  INFJ  'http://www.youtube.com/watch?v=qsXHcwe3krw|||...\n",
              "1  ENTP  'I'm finding the lack of me in these posts ver...\n",
              "2  INTP  'Good one  _____   https://www.youtube.com/wat...\n",
              "3  INTJ  'Dear INTP,   I enjoyed our conversation the o...\n",
              "4  ENTJ  'You're fired.|||That's another silly misconce..."
            ]
          },
          "metadata": {
            "tags": []
          },
          "execution_count": 7
        }
      ]
    },
    {
      "cell_type": "markdown",
      "metadata": {
        "id": "JHCdCHYfT1H7"
      },
      "source": [
        "# **Spliting the Data into Binary**"
      ]
    },
    {
      "cell_type": "code",
      "metadata": {
        "id": "hoxZZrZKT7hM"
      },
      "source": [
        "split_df = data[['type']].copy()\n",
        "\n",
        "split_df['E-I'] = data['type'].str.extract('(.)[N,S]',1)\n",
        "split_df['N-S'] = data['type'].str.extract('[E,I](.)[F,T]',1)\n",
        "split_df['T-F'] = data['type'].str.extract('[N,S](.)[J,P]',1)\n",
        "split_df['J-P'] = data['type'].str.extract('[F,T](.)',1)"
      ],
      "execution_count": null,
      "outputs": []
    },
    {
      "cell_type": "markdown",
      "metadata": {
        "id": "cfX2cuelUhtC"
      },
      "source": [
        "Encode Letters to Numeric Value"
      ]
    },
    {
      "cell_type": "code",
      "metadata": {
        "colab": {
          "base_uri": "https://localhost:8080/",
          "height": 124
        },
        "id": "uMDzwg2aULy7",
        "outputId": "6de10c2d-e8fd-41fd-ae7a-d9fb8eb8612e"
      },
      "source": [
        "from sklearn.preprocessing import LabelEncoder\n",
        "le = LabelEncoder()\n",
        "\n",
        "encoded_df = split_df[['type']].copy()\n",
        "encoded_df['E0-I1'] = le.fit_transform(split_df['E-I'])\n",
        "encoded_df['N0-S1'] = le.fit_transform(split_df['N-S'])\n",
        "encoded_df['F0-T1'] = le.fit_transform(split_df['T-F'])\n",
        "encoded_df['J0-P1'] = le.fit_transform(split_df['J-P'])\n",
        "\n",
        "binary_type = encoded_df.drop(columns='type')\n",
        "\n",
        "corrMatrix = binary_type.corr()\n",
        "corrMatrix.style.background_gradient(cmap='coolwarm')"
      ],
      "execution_count": null,
      "outputs": [
        {
          "output_type": "execute_result",
          "data": {
            "text/html": [
              "<style  type=\"text/css\" >\n",
              "#T_47c3cb8e_c3a3_11eb_b130_0242ac1c0002row0_col0,#T_47c3cb8e_c3a3_11eb_b130_0242ac1c0002row1_col1,#T_47c3cb8e_c3a3_11eb_b130_0242ac1c0002row2_col2,#T_47c3cb8e_c3a3_11eb_b130_0242ac1c0002row3_col3{\n",
              "            background-color:  #b40426;\n",
              "            color:  #f1f1f1;\n",
              "        }#T_47c3cb8e_c3a3_11eb_b130_0242ac1c0002row0_col1{\n",
              "            background-color:  #445acc;\n",
              "            color:  #f1f1f1;\n",
              "        }#T_47c3cb8e_c3a3_11eb_b130_0242ac1c0002row0_col2,#T_47c3cb8e_c3a3_11eb_b130_0242ac1c0002row0_col3,#T_47c3cb8e_c3a3_11eb_b130_0242ac1c0002row3_col0,#T_47c3cb8e_c3a3_11eb_b130_0242ac1c0002row3_col1{\n",
              "            background-color:  #3b4cc0;\n",
              "            color:  #f1f1f1;\n",
              "        }#T_47c3cb8e_c3a3_11eb_b130_0242ac1c0002row1_col0{\n",
              "            background-color:  #7396f5;\n",
              "            color:  #000000;\n",
              "        }#T_47c3cb8e_c3a3_11eb_b130_0242ac1c0002row1_col2,#T_47c3cb8e_c3a3_11eb_b130_0242ac1c0002row2_col3{\n",
              "            background-color:  #6788ee;\n",
              "            color:  #000000;\n",
              "        }#T_47c3cb8e_c3a3_11eb_b130_0242ac1c0002row1_col3{\n",
              "            background-color:  #6a8bef;\n",
              "            color:  #000000;\n",
              "        }#T_47c3cb8e_c3a3_11eb_b130_0242ac1c0002row2_col0{\n",
              "            background-color:  #536edd;\n",
              "            color:  #000000;\n",
              "        }#T_47c3cb8e_c3a3_11eb_b130_0242ac1c0002row2_col1,#T_47c3cb8e_c3a3_11eb_b130_0242ac1c0002row3_col2{\n",
              "            background-color:  #4f69d9;\n",
              "            color:  #000000;\n",
              "        }</style><table id=\"T_47c3cb8e_c3a3_11eb_b130_0242ac1c0002\" ><thead>    <tr>        <th class=\"blank level0\" ></th>        <th class=\"col_heading level0 col0\" >E0-I1</th>        <th class=\"col_heading level0 col1\" >N0-S1</th>        <th class=\"col_heading level0 col2\" >F0-T1</th>        <th class=\"col_heading level0 col3\" >J0-P1</th>    </tr></thead><tbody>\n",
              "                <tr>\n",
              "                        <th id=\"T_47c3cb8e_c3a3_11eb_b130_0242ac1c0002level0_row0\" class=\"row_heading level0 row0\" >E0-I1</th>\n",
              "                        <td id=\"T_47c3cb8e_c3a3_11eb_b130_0242ac1c0002row0_col0\" class=\"data row0 col0\" >1.000000</td>\n",
              "                        <td id=\"T_47c3cb8e_c3a3_11eb_b130_0242ac1c0002row0_col1\" class=\"data row0 col1\" >0.045899</td>\n",
              "                        <td id=\"T_47c3cb8e_c3a3_11eb_b130_0242ac1c0002row0_col2\" class=\"data row0 col2\" >-0.069573</td>\n",
              "                        <td id=\"T_47c3cb8e_c3a3_11eb_b130_0242ac1c0002row0_col3\" class=\"data row0 col3\" >-0.161939</td>\n",
              "            </tr>\n",
              "            <tr>\n",
              "                        <th id=\"T_47c3cb8e_c3a3_11eb_b130_0242ac1c0002level0_row1\" class=\"row_heading level0 row1\" >N0-S1</th>\n",
              "                        <td id=\"T_47c3cb8e_c3a3_11eb_b130_0242ac1c0002row1_col0\" class=\"data row1 col0\" >0.045899</td>\n",
              "                        <td id=\"T_47c3cb8e_c3a3_11eb_b130_0242ac1c0002row1_col1\" class=\"data row1 col1\" >1.000000</td>\n",
              "                        <td id=\"T_47c3cb8e_c3a3_11eb_b130_0242ac1c0002row1_col2\" class=\"data row1 col2\" >0.080954</td>\n",
              "                        <td id=\"T_47c3cb8e_c3a3_11eb_b130_0242ac1c0002row1_col3\" class=\"data row1 col3\" >0.014922</td>\n",
              "            </tr>\n",
              "            <tr>\n",
              "                        <th id=\"T_47c3cb8e_c3a3_11eb_b130_0242ac1c0002level0_row2\" class=\"row_heading level0 row2\" >F0-T1</th>\n",
              "                        <td id=\"T_47c3cb8e_c3a3_11eb_b130_0242ac1c0002row2_col0\" class=\"data row2 col0\" >-0.069573</td>\n",
              "                        <td id=\"T_47c3cb8e_c3a3_11eb_b130_0242ac1c0002row2_col1\" class=\"data row2 col1\" >0.080954</td>\n",
              "                        <td id=\"T_47c3cb8e_c3a3_11eb_b130_0242ac1c0002row2_col2\" class=\"data row2 col2\" >1.000000</td>\n",
              "                        <td id=\"T_47c3cb8e_c3a3_11eb_b130_0242ac1c0002row2_col3\" class=\"data row2 col3\" >0.004673</td>\n",
              "            </tr>\n",
              "            <tr>\n",
              "                        <th id=\"T_47c3cb8e_c3a3_11eb_b130_0242ac1c0002level0_row3\" class=\"row_heading level0 row3\" >J0-P1</th>\n",
              "                        <td id=\"T_47c3cb8e_c3a3_11eb_b130_0242ac1c0002row3_col0\" class=\"data row3 col0\" >-0.161939</td>\n",
              "                        <td id=\"T_47c3cb8e_c3a3_11eb_b130_0242ac1c0002row3_col1\" class=\"data row3 col1\" >0.014922</td>\n",
              "                        <td id=\"T_47c3cb8e_c3a3_11eb_b130_0242ac1c0002row3_col2\" class=\"data row3 col2\" >0.004673</td>\n",
              "                        <td id=\"T_47c3cb8e_c3a3_11eb_b130_0242ac1c0002row3_col3\" class=\"data row3 col3\" >1.000000</td>\n",
              "            </tr>\n",
              "    </tbody></table>"
            ],
            "text/plain": [
              "<pandas.io.formats.style.Styler at 0x7fbbaaa83390>"
            ]
          },
          "metadata": {
            "tags": []
          },
          "execution_count": 9
        }
      ]
    },
    {
      "cell_type": "markdown",
      "metadata": {
        "id": "_6U80IERUtl5"
      },
      "source": [
        "Counting each of type data"
      ]
    },
    {
      "cell_type": "code",
      "metadata": {
        "colab": {
          "base_uri": "https://localhost:8080/",
          "height": 576
        },
        "id": "m0PrrJ-sUvoH",
        "outputId": "65a37091-b499-4cd8-8178-79381758027a"
      },
      "source": [
        "count_type = data.groupby('type').agg({'type':'count'})\n",
        "count_type"
      ],
      "execution_count": null,
      "outputs": [
        {
          "output_type": "execute_result",
          "data": {
            "text/html": [
              "<div>\n",
              "<style scoped>\n",
              "    .dataframe tbody tr th:only-of-type {\n",
              "        vertical-align: middle;\n",
              "    }\n",
              "\n",
              "    .dataframe tbody tr th {\n",
              "        vertical-align: top;\n",
              "    }\n",
              "\n",
              "    .dataframe thead th {\n",
              "        text-align: right;\n",
              "    }\n",
              "</style>\n",
              "<table border=\"1\" class=\"dataframe\">\n",
              "  <thead>\n",
              "    <tr style=\"text-align: right;\">\n",
              "      <th></th>\n",
              "      <th>type</th>\n",
              "    </tr>\n",
              "    <tr>\n",
              "      <th>type</th>\n",
              "      <th></th>\n",
              "    </tr>\n",
              "  </thead>\n",
              "  <tbody>\n",
              "    <tr>\n",
              "      <th>ENFJ</th>\n",
              "      <td>190</td>\n",
              "    </tr>\n",
              "    <tr>\n",
              "      <th>ENFP</th>\n",
              "      <td>675</td>\n",
              "    </tr>\n",
              "    <tr>\n",
              "      <th>ENTJ</th>\n",
              "      <td>231</td>\n",
              "    </tr>\n",
              "    <tr>\n",
              "      <th>ENTP</th>\n",
              "      <td>685</td>\n",
              "    </tr>\n",
              "    <tr>\n",
              "      <th>ESFJ</th>\n",
              "      <td>42</td>\n",
              "    </tr>\n",
              "    <tr>\n",
              "      <th>ESFP</th>\n",
              "      <td>48</td>\n",
              "    </tr>\n",
              "    <tr>\n",
              "      <th>ESTJ</th>\n",
              "      <td>39</td>\n",
              "    </tr>\n",
              "    <tr>\n",
              "      <th>ESTP</th>\n",
              "      <td>89</td>\n",
              "    </tr>\n",
              "    <tr>\n",
              "      <th>INFJ</th>\n",
              "      <td>1470</td>\n",
              "    </tr>\n",
              "    <tr>\n",
              "      <th>INFP</th>\n",
              "      <td>1832</td>\n",
              "    </tr>\n",
              "    <tr>\n",
              "      <th>INTJ</th>\n",
              "      <td>1091</td>\n",
              "    </tr>\n",
              "    <tr>\n",
              "      <th>INTP</th>\n",
              "      <td>1304</td>\n",
              "    </tr>\n",
              "    <tr>\n",
              "      <th>ISFJ</th>\n",
              "      <td>166</td>\n",
              "    </tr>\n",
              "    <tr>\n",
              "      <th>ISFP</th>\n",
              "      <td>271</td>\n",
              "    </tr>\n",
              "    <tr>\n",
              "      <th>ISTJ</th>\n",
              "      <td>205</td>\n",
              "    </tr>\n",
              "    <tr>\n",
              "      <th>ISTP</th>\n",
              "      <td>337</td>\n",
              "    </tr>\n",
              "  </tbody>\n",
              "</table>\n",
              "</div>"
            ],
            "text/plain": [
              "      type\n",
              "type      \n",
              "ENFJ   190\n",
              "ENFP   675\n",
              "ENTJ   231\n",
              "ENTP   685\n",
              "ESFJ    42\n",
              "ESFP    48\n",
              "ESTJ    39\n",
              "ESTP    89\n",
              "INFJ  1470\n",
              "INFP  1832\n",
              "INTJ  1091\n",
              "INTP  1304\n",
              "ISFJ   166\n",
              "ISFP   271\n",
              "ISTJ   205\n",
              "ISTP   337"
            ]
          },
          "metadata": {
            "tags": []
          },
          "execution_count": 10
        }
      ]
    },
    {
      "cell_type": "markdown",
      "metadata": {
        "id": "peW7zQQ1VrBx"
      },
      "source": [
        "Show the data into graph to more easier read the dataset"
      ]
    },
    {
      "cell_type": "code",
      "metadata": {
        "colab": {
          "base_uri": "https://localhost:8080/",
          "height": 297
        },
        "id": "fW_9nfQeVE4v",
        "outputId": "622af8cb-7588-4743-982e-2587da00be0a"
      },
      "source": [
        "from matplotlib import pyplot as plt\n",
        "\n",
        "histogram_chart = count_type.plot(kind='bar')\n",
        "histogram_chart.set_xlabel(\"Personality Types\")\n",
        "histogram_chart.set_ylabel(\"Numbers\")\n",
        "plt.tight_layout()"
      ],
      "execution_count": null,
      "outputs": [
        {
          "output_type": "display_data",
          "data": {
            "image/png": "[encoded data removed]",
            "text/plain": [
              "<Figure size 432x288 with 1 Axes>"
            ]
          },
          "metadata": {
            "tags": [],
            "needs_background": "light"
          }
        }
      ]
    },
    {
      "cell_type": "markdown",
      "metadata": {
        "id": "oHgtn40RduKw"
      },
      "source": [
        "# **Cleaning the Data into Readable Text**"
      ]
    },
    {
      "cell_type": "code",
      "metadata": {
        "colab": {
          "base_uri": "https://localhost:8080/",
          "height": 204
        },
        "id": "HQqpgPzFd73D",
        "outputId": "766b929e-26e9-4c49-c202-46808ee2e9af"
      },
      "source": [
        "http_post = data.copy()\n",
        "http_post['http_per_post']=data['posts'].apply(lambda x: x.count('http')/50)\n",
        "http_post.head()"
      ],
      "execution_count": null,
      "outputs": [
        {
          "output_type": "execute_result",
          "data": {
            "text/html": [
              "<div>\n",
              "<style scoped>\n",
              "    .dataframe tbody tr th:only-of-type {\n",
              "        vertical-align: middle;\n",
              "    }\n",
              "\n",
              "    .dataframe tbody tr th {\n",
              "        vertical-align: top;\n",
              "    }\n",
              "\n",
              "    .dataframe thead th {\n",
              "        text-align: right;\n",
              "    }\n",
              "</style>\n",
              "<table border=\"1\" class=\"dataframe\">\n",
              "  <thead>\n",
              "    <tr style=\"text-align: right;\">\n",
              "      <th></th>\n",
              "      <th>type</th>\n",
              "      <th>posts</th>\n",
              "      <th>http_per_post</th>\n",
              "    </tr>\n",
              "  </thead>\n",
              "  <tbody>\n",
              "    <tr>\n",
              "      <th>0</th>\n",
              "      <td>INFJ</td>\n",
              "      <td>'http://www.youtube.com/watch?v=qsXHcwe3krw|||...</td>\n",
              "      <td>0.48</td>\n",
              "    </tr>\n",
              "    <tr>\n",
              "      <th>1</th>\n",
              "      <td>ENTP</td>\n",
              "      <td>'I'm finding the lack of me in these posts ver...</td>\n",
              "      <td>0.20</td>\n",
              "    </tr>\n",
              "    <tr>\n",
              "      <th>2</th>\n",
              "      <td>INTP</td>\n",
              "      <td>'Good one  _____   https://www.youtube.com/wat...</td>\n",
              "      <td>0.10</td>\n",
              "    </tr>\n",
              "    <tr>\n",
              "      <th>3</th>\n",
              "      <td>INTJ</td>\n",
              "      <td>'Dear INTP,   I enjoyed our conversation the o...</td>\n",
              "      <td>0.04</td>\n",
              "    </tr>\n",
              "    <tr>\n",
              "      <th>4</th>\n",
              "      <td>ENTJ</td>\n",
              "      <td>'You're fired.|||That's another silly misconce...</td>\n",
              "      <td>0.12</td>\n",
              "    </tr>\n",
              "  </tbody>\n",
              "</table>\n",
              "</div>"
            ],
            "text/plain": [
              "   type                                              posts  http_per_post\n",
              "0  INFJ  'http://www.youtube.com/watch?v=qsXHcwe3krw|||...           0.48\n",
              "1  ENTP  'I'm finding the lack of me in these posts ver...           0.20\n",
              "2  INTP  'Good one  _____   https://www.youtube.com/wat...           0.10\n",
              "3  INTJ  'Dear INTP,   I enjoyed our conversation the o...           0.04\n",
              "4  ENTJ  'You're fired.|||That's another silly misconce...           0.12"
            ]
          },
          "metadata": {
            "tags": []
          },
          "execution_count": 12
        }
      ]
    },
    {
      "cell_type": "code",
      "metadata": {
        "colab": {
          "base_uri": "https://localhost:8080/",
          "height": 204
        },
        "id": "4_3l4_82eTA-",
        "outputId": "7cf50ec2-eb7a-4d4b-9386-e52c9ec69445"
      },
      "source": [
        "remove_http_post = \"(http.*?\\s)\"\n",
        "data['no_url'] = data['posts'].replace(remove_http_post,\"\",regex=True)\n",
        "data.head()"
      ],
      "execution_count": null,
      "outputs": [
        {
          "output_type": "execute_result",
          "data": {
            "text/html": [
              "<div>\n",
              "<style scoped>\n",
              "    .dataframe tbody tr th:only-of-type {\n",
              "        vertical-align: middle;\n",
              "    }\n",
              "\n",
              "    .dataframe tbody tr th {\n",
              "        vertical-align: top;\n",
              "    }\n",
              "\n",
              "    .dataframe thead th {\n",
              "        text-align: right;\n",
              "    }\n",
              "</style>\n",
              "<table border=\"1\" class=\"dataframe\">\n",
              "  <thead>\n",
              "    <tr style=\"text-align: right;\">\n",
              "      <th></th>\n",
              "      <th>type</th>\n",
              "      <th>posts</th>\n",
              "      <th>no_url</th>\n",
              "    </tr>\n",
              "  </thead>\n",
              "  <tbody>\n",
              "    <tr>\n",
              "      <th>0</th>\n",
              "      <td>INFJ</td>\n",
              "      <td>'http://www.youtube.com/watch?v=qsXHcwe3krw|||...</td>\n",
              "      <td>'and intj moments   sportscenter not top ten p...</td>\n",
              "    </tr>\n",
              "    <tr>\n",
              "      <th>1</th>\n",
              "      <td>ENTP</td>\n",
              "      <td>'I'm finding the lack of me in these posts ver...</td>\n",
              "      <td>'I'm finding the lack of me in these posts ver...</td>\n",
              "    </tr>\n",
              "    <tr>\n",
              "      <th>2</th>\n",
              "      <td>INTP</td>\n",
              "      <td>'Good one  _____   https://www.youtube.com/wat...</td>\n",
              "      <td>'Good one  _____   course, to which I say I kn...</td>\n",
              "    </tr>\n",
              "    <tr>\n",
              "      <th>3</th>\n",
              "      <td>INTJ</td>\n",
              "      <td>'Dear INTP,   I enjoyed our conversation the o...</td>\n",
              "      <td>'Dear INTP,   I enjoyed our conversation the o...</td>\n",
              "    </tr>\n",
              "    <tr>\n",
              "      <th>4</th>\n",
              "      <td>ENTJ</td>\n",
              "      <td>'You're fired.|||That's another silly misconce...</td>\n",
              "      <td>'You're fired.|||That's another silly misconce...</td>\n",
              "    </tr>\n",
              "  </tbody>\n",
              "</table>\n",
              "</div>"
            ],
            "text/plain": [
              "   type  ...                                             no_url\n",
              "0  INFJ  ...  'and intj moments   sportscenter not top ten p...\n",
              "1  ENTP  ...  'I'm finding the lack of me in these posts ver...\n",
              "2  INTP  ...  'Good one  _____   course, to which I say I kn...\n",
              "3  INTJ  ...  'Dear INTP,   I enjoyed our conversation the o...\n",
              "4  ENTJ  ...  'You're fired.|||That's another silly misconce...\n",
              "\n",
              "[5 rows x 3 columns]"
            ]
          },
          "metadata": {
            "tags": []
          },
          "execution_count": 13
        }
      ]
    },
    {
      "cell_type": "code",
      "metadata": {
        "colab": {
          "base_uri": "https://localhost:8080/",
          "height": 204
        },
        "id": "JluQhPgNe8B9",
        "outputId": "e8264667-7ae3-4665-d1e1-4271e9283b83"
      },
      "source": [
        "remove_line = \"(\\|\\|\\|)\"\n",
        "data['text']=data['no_url'].replace(remove_line,\"\",regex=True)\n",
        "data.head()"
      ],
      "execution_count": null,
      "outputs": [
        {
          "output_type": "execute_result",
          "data": {
            "text/html": [
              "<div>\n",
              "<style scoped>\n",
              "    .dataframe tbody tr th:only-of-type {\n",
              "        vertical-align: middle;\n",
              "    }\n",
              "\n",
              "    .dataframe tbody tr th {\n",
              "        vertical-align: top;\n",
              "    }\n",
              "\n",
              "    .dataframe thead th {\n",
              "        text-align: right;\n",
              "    }\n",
              "</style>\n",
              "<table border=\"1\" class=\"dataframe\">\n",
              "  <thead>\n",
              "    <tr style=\"text-align: right;\">\n",
              "      <th></th>\n",
              "      <th>type</th>\n",
              "      <th>posts</th>\n",
              "      <th>no_url</th>\n",
              "      <th>text</th>\n",
              "    </tr>\n",
              "  </thead>\n",
              "  <tbody>\n",
              "    <tr>\n",
              "      <th>0</th>\n",
              "      <td>INFJ</td>\n",
              "      <td>'http://www.youtube.com/watch?v=qsXHcwe3krw|||...</td>\n",
              "      <td>'and intj moments   sportscenter not top ten p...</td>\n",
              "      <td>'and intj moments   sportscenter not top ten p...</td>\n",
              "    </tr>\n",
              "    <tr>\n",
              "      <th>1</th>\n",
              "      <td>ENTP</td>\n",
              "      <td>'I'm finding the lack of me in these posts ver...</td>\n",
              "      <td>'I'm finding the lack of me in these posts ver...</td>\n",
              "      <td>'I'm finding the lack of me in these posts ver...</td>\n",
              "    </tr>\n",
              "    <tr>\n",
              "      <th>2</th>\n",
              "      <td>INTP</td>\n",
              "      <td>'Good one  _____   https://www.youtube.com/wat...</td>\n",
              "      <td>'Good one  _____   course, to which I say I kn...</td>\n",
              "      <td>'Good one  _____   course, to which I say I kn...</td>\n",
              "    </tr>\n",
              "    <tr>\n",
              "      <th>3</th>\n",
              "      <td>INTJ</td>\n",
              "      <td>'Dear INTP,   I enjoyed our conversation the o...</td>\n",
              "      <td>'Dear INTP,   I enjoyed our conversation the o...</td>\n",
              "      <td>'Dear INTP,   I enjoyed our conversation the o...</td>\n",
              "    </tr>\n",
              "    <tr>\n",
              "      <th>4</th>\n",
              "      <td>ENTJ</td>\n",
              "      <td>'You're fired.|||That's another silly misconce...</td>\n",
              "      <td>'You're fired.|||That's another silly misconce...</td>\n",
              "      <td>'You're fired.That's another silly misconcepti...</td>\n",
              "    </tr>\n",
              "  </tbody>\n",
              "</table>\n",
              "</div>"
            ],
            "text/plain": [
              "   type  ...                                               text\n",
              "0  INFJ  ...  'and intj moments   sportscenter not top ten p...\n",
              "1  ENTP  ...  'I'm finding the lack of me in these posts ver...\n",
              "2  INTP  ...  'Good one  _____   course, to which I say I kn...\n",
              "3  INTJ  ...  'Dear INTP,   I enjoyed our conversation the o...\n",
              "4  ENTJ  ...  'You're fired.That's another silly misconcepti...\n",
              "\n",
              "[5 rows x 4 columns]"
            ]
          },
          "metadata": {
            "tags": []
          },
          "execution_count": 14
        }
      ]
    },
    {
      "cell_type": "code",
      "metadata": {
        "colab": {
          "base_uri": "https://localhost:8080/",
          "height": 272
        },
        "id": "iSo2oxXqfUgj",
        "outputId": "0305f7a3-dab8-47c1-c14b-cdf7126cd4d9"
      },
      "source": [
        "remove_punctuations = \"[^\\w\\s]\"\n",
        "data['text']=data['text'].replace(remove_punctuations,\"\",regex=True)\n",
        "data.head()"
      ],
      "execution_count": null,
      "outputs": [
        {
          "output_type": "execute_result",
          "data": {
            "text/html": [
              "<div>\n",
              "<style scoped>\n",
              "    .dataframe tbody tr th:only-of-type {\n",
              "        vertical-align: middle;\n",
              "    }\n",
              "\n",
              "    .dataframe tbody tr th {\n",
              "        vertical-align: top;\n",
              "    }\n",
              "\n",
              "    .dataframe thead th {\n",
              "        text-align: right;\n",
              "    }\n",
              "</style>\n",
              "<table border=\"1\" class=\"dataframe\">\n",
              "  <thead>\n",
              "    <tr style=\"text-align: right;\">\n",
              "      <th></th>\n",
              "      <th>type</th>\n",
              "      <th>posts</th>\n",
              "      <th>no_url</th>\n",
              "      <th>text</th>\n",
              "    </tr>\n",
              "  </thead>\n",
              "  <tbody>\n",
              "    <tr>\n",
              "      <th>0</th>\n",
              "      <td>INFJ</td>\n",
              "      <td>'http://www.youtube.com/watch?v=qsXHcwe3krw|||...</td>\n",
              "      <td>'and intj moments   sportscenter not top ten p...</td>\n",
              "      <td>and intj moments   sportscenter not top ten pl...</td>\n",
              "    </tr>\n",
              "    <tr>\n",
              "      <th>1</th>\n",
              "      <td>ENTP</td>\n",
              "      <td>'I'm finding the lack of me in these posts ver...</td>\n",
              "      <td>'I'm finding the lack of me in these posts ver...</td>\n",
              "      <td>Im finding the lack of me in these posts very ...</td>\n",
              "    </tr>\n",
              "    <tr>\n",
              "      <th>2</th>\n",
              "      <td>INTP</td>\n",
              "      <td>'Good one  _____   https://www.youtube.com/wat...</td>\n",
              "      <td>'Good one  _____   course, to which I say I kn...</td>\n",
              "      <td>Good one  _____   course to which I say I know...</td>\n",
              "    </tr>\n",
              "    <tr>\n",
              "      <th>3</th>\n",
              "      <td>INTJ</td>\n",
              "      <td>'Dear INTP,   I enjoyed our conversation the o...</td>\n",
              "      <td>'Dear INTP,   I enjoyed our conversation the o...</td>\n",
              "      <td>Dear INTP   I enjoyed our conversation the oth...</td>\n",
              "    </tr>\n",
              "    <tr>\n",
              "      <th>4</th>\n",
              "      <td>ENTJ</td>\n",
              "      <td>'You're fired.|||That's another silly misconce...</td>\n",
              "      <td>'You're fired.|||That's another silly misconce...</td>\n",
              "      <td>Youre firedThats another silly misconception T...</td>\n",
              "    </tr>\n",
              "  </tbody>\n",
              "</table>\n",
              "</div>"
            ],
            "text/plain": [
              "   type  ...                                               text\n",
              "0  INFJ  ...  and intj moments   sportscenter not top ten pl...\n",
              "1  ENTP  ...  Im finding the lack of me in these posts very ...\n",
              "2  INTP  ...  Good one  _____   course to which I say I know...\n",
              "3  INTJ  ...  Dear INTP   I enjoyed our conversation the oth...\n",
              "4  ENTJ  ...  Youre firedThats another silly misconception T...\n",
              "\n",
              "[5 rows x 4 columns]"
            ]
          },
          "metadata": {
            "tags": []
          },
          "execution_count": 15
        }
      ]
    },
    {
      "cell_type": "code",
      "metadata": {
        "colab": {
          "base_uri": "https://localhost:8080/",
          "height": 272
        },
        "id": "sqJUCi3Rf9P3",
        "outputId": "435678d4-3284-4884-c895-e2b741e0e16c"
      },
      "source": [
        "remove_underscore = \"\\_\"\n",
        "data['text']=data['text'].replace(remove_underscore,\"\",regex=True)\n",
        "data.head()\n"
      ],
      "execution_count": null,
      "outputs": [
        {
          "output_type": "execute_result",
          "data": {
            "text/html": [
              "<div>\n",
              "<style scoped>\n",
              "    .dataframe tbody tr th:only-of-type {\n",
              "        vertical-align: middle;\n",
              "    }\n",
              "\n",
              "    .dataframe tbody tr th {\n",
              "        vertical-align: top;\n",
              "    }\n",
              "\n",
              "    .dataframe thead th {\n",
              "        text-align: right;\n",
              "    }\n",
              "</style>\n",
              "<table border=\"1\" class=\"dataframe\">\n",
              "  <thead>\n",
              "    <tr style=\"text-align: right;\">\n",
              "      <th></th>\n",
              "      <th>type</th>\n",
              "      <th>posts</th>\n",
              "      <th>no_url</th>\n",
              "      <th>text</th>\n",
              "    </tr>\n",
              "  </thead>\n",
              "  <tbody>\n",
              "    <tr>\n",
              "      <th>0</th>\n",
              "      <td>INFJ</td>\n",
              "      <td>'http://www.youtube.com/watch?v=qsXHcwe3krw|||...</td>\n",
              "      <td>'and intj moments   sportscenter not top ten p...</td>\n",
              "      <td>and intj moments   sportscenter not top ten pl...</td>\n",
              "    </tr>\n",
              "    <tr>\n",
              "      <th>1</th>\n",
              "      <td>ENTP</td>\n",
              "      <td>'I'm finding the lack of me in these posts ver...</td>\n",
              "      <td>'I'm finding the lack of me in these posts ver...</td>\n",
              "      <td>Im finding the lack of me in these posts very ...</td>\n",
              "    </tr>\n",
              "    <tr>\n",
              "      <th>2</th>\n",
              "      <td>INTP</td>\n",
              "      <td>'Good one  _____   https://www.youtube.com/wat...</td>\n",
              "      <td>'Good one  _____   course, to which I say I kn...</td>\n",
              "      <td>Good one     course to which I say I know that...</td>\n",
              "    </tr>\n",
              "    <tr>\n",
              "      <th>3</th>\n",
              "      <td>INTJ</td>\n",
              "      <td>'Dear INTP,   I enjoyed our conversation the o...</td>\n",
              "      <td>'Dear INTP,   I enjoyed our conversation the o...</td>\n",
              "      <td>Dear INTP   I enjoyed our conversation the oth...</td>\n",
              "    </tr>\n",
              "    <tr>\n",
              "      <th>4</th>\n",
              "      <td>ENTJ</td>\n",
              "      <td>'You're fired.|||That's another silly misconce...</td>\n",
              "      <td>'You're fired.|||That's another silly misconce...</td>\n",
              "      <td>Youre firedThats another silly misconception T...</td>\n",
              "    </tr>\n",
              "  </tbody>\n",
              "</table>\n",
              "</div>"
            ],
            "text/plain": [
              "   type  ...                                               text\n",
              "0  INFJ  ...  and intj moments   sportscenter not top ten pl...\n",
              "1  ENTP  ...  Im finding the lack of me in these posts very ...\n",
              "2  INTP  ...  Good one     course to which I say I know that...\n",
              "3  INTJ  ...  Dear INTP   I enjoyed our conversation the oth...\n",
              "4  ENTJ  ...  Youre firedThats another silly misconception T...\n",
              "\n",
              "[5 rows x 4 columns]"
            ]
          },
          "metadata": {
            "tags": []
          },
          "execution_count": 16
        }
      ]
    },
    {
      "cell_type": "code",
      "metadata": {
        "colab": {
          "base_uri": "https://localhost:8080/",
          "height": 272
        },
        "id": "1zedEWuRibcb",
        "outputId": "24b5e71b-9d90-4b3b-904b-2e00aa0664e6"
      },
      "source": [
        "remove_numbers = \"\\d+\"\n",
        "data['text']=data['text'].replace(remove_numbers,\"\",regex=True)\n",
        "data.head()"
      ],
      "execution_count": null,
      "outputs": [
        {
          "output_type": "execute_result",
          "data": {
            "text/html": [
              "<div>\n",
              "<style scoped>\n",
              "    .dataframe tbody tr th:only-of-type {\n",
              "        vertical-align: middle;\n",
              "    }\n",
              "\n",
              "    .dataframe tbody tr th {\n",
              "        vertical-align: top;\n",
              "    }\n",
              "\n",
              "    .dataframe thead th {\n",
              "        text-align: right;\n",
              "    }\n",
              "</style>\n",
              "<table border=\"1\" class=\"dataframe\">\n",
              "  <thead>\n",
              "    <tr style=\"text-align: right;\">\n",
              "      <th></th>\n",
              "      <th>type</th>\n",
              "      <th>posts</th>\n",
              "      <th>no_url</th>\n",
              "      <th>text</th>\n",
              "    </tr>\n",
              "  </thead>\n",
              "  <tbody>\n",
              "    <tr>\n",
              "      <th>0</th>\n",
              "      <td>INFJ</td>\n",
              "      <td>'http://www.youtube.com/watch?v=qsXHcwe3krw|||...</td>\n",
              "      <td>'and intj moments   sportscenter not top ten p...</td>\n",
              "      <td>and intj moments   sportscenter not top ten pl...</td>\n",
              "    </tr>\n",
              "    <tr>\n",
              "      <th>1</th>\n",
              "      <td>ENTP</td>\n",
              "      <td>'I'm finding the lack of me in these posts ver...</td>\n",
              "      <td>'I'm finding the lack of me in these posts ver...</td>\n",
              "      <td>Im finding the lack of me in these posts very ...</td>\n",
              "    </tr>\n",
              "    <tr>\n",
              "      <th>2</th>\n",
              "      <td>INTP</td>\n",
              "      <td>'Good one  _____   https://www.youtube.com/wat...</td>\n",
              "      <td>'Good one  _____   course, to which I say I kn...</td>\n",
              "      <td>Good one     course to which I say I know that...</td>\n",
              "    </tr>\n",
              "    <tr>\n",
              "      <th>3</th>\n",
              "      <td>INTJ</td>\n",
              "      <td>'Dear INTP,   I enjoyed our conversation the o...</td>\n",
              "      <td>'Dear INTP,   I enjoyed our conversation the o...</td>\n",
              "      <td>Dear INTP   I enjoyed our conversation the oth...</td>\n",
              "    </tr>\n",
              "    <tr>\n",
              "      <th>4</th>\n",
              "      <td>ENTJ</td>\n",
              "      <td>'You're fired.|||That's another silly misconce...</td>\n",
              "      <td>'You're fired.|||That's another silly misconce...</td>\n",
              "      <td>Youre firedThats another silly misconception T...</td>\n",
              "    </tr>\n",
              "  </tbody>\n",
              "</table>\n",
              "</div>"
            ],
            "text/plain": [
              "   type  ...                                               text\n",
              "0  INFJ  ...  and intj moments   sportscenter not top ten pl...\n",
              "1  ENTP  ...  Im finding the lack of me in these posts very ...\n",
              "2  INTP  ...  Good one     course to which I say I know that...\n",
              "3  INTJ  ...  Dear INTP   I enjoyed our conversation the oth...\n",
              "4  ENTJ  ...  Youre firedThats another silly misconception T...\n",
              "\n",
              "[5 rows x 4 columns]"
            ]
          },
          "metadata": {
            "tags": []
          },
          "execution_count": 17
        }
      ]
    },
    {
      "cell_type": "code",
      "metadata": {
        "colab": {
          "base_uri": "https://localhost:8080/",
          "height": 272
        },
        "id": "wXPjlWXXj7LL",
        "outputId": "9f2c56d1-a815-453c-b002-bd1c8b429cc4"
      },
      "source": [
        "remove_letter_words = \"\\W*\\b\\w\\b\"\n",
        "data['text']=data['text'].replace(remove_letter_words,\"\",regex=True)\n",
        "data.head()"
      ],
      "execution_count": null,
      "outputs": [
        {
          "output_type": "execute_result",
          "data": {
            "text/html": [
              "<div>\n",
              "<style scoped>\n",
              "    .dataframe tbody tr th:only-of-type {\n",
              "        vertical-align: middle;\n",
              "    }\n",
              "\n",
              "    .dataframe tbody tr th {\n",
              "        vertical-align: top;\n",
              "    }\n",
              "\n",
              "    .dataframe thead th {\n",
              "        text-align: right;\n",
              "    }\n",
              "</style>\n",
              "<table border=\"1\" class=\"dataframe\">\n",
              "  <thead>\n",
              "    <tr style=\"text-align: right;\">\n",
              "      <th></th>\n",
              "      <th>type</th>\n",
              "      <th>posts</th>\n",
              "      <th>no_url</th>\n",
              "      <th>text</th>\n",
              "    </tr>\n",
              "  </thead>\n",
              "  <tbody>\n",
              "    <tr>\n",
              "      <th>0</th>\n",
              "      <td>INFJ</td>\n",
              "      <td>'http://www.youtube.com/watch?v=qsXHcwe3krw|||...</td>\n",
              "      <td>'and intj moments   sportscenter not top ten p...</td>\n",
              "      <td>and intj moments   sportscenter not top ten pl...</td>\n",
              "    </tr>\n",
              "    <tr>\n",
              "      <th>1</th>\n",
              "      <td>ENTP</td>\n",
              "      <td>'I'm finding the lack of me in these posts ver...</td>\n",
              "      <td>'I'm finding the lack of me in these posts ver...</td>\n",
              "      <td>Im finding the lack of me in these posts very ...</td>\n",
              "    </tr>\n",
              "    <tr>\n",
              "      <th>2</th>\n",
              "      <td>INTP</td>\n",
              "      <td>'Good one  _____   https://www.youtube.com/wat...</td>\n",
              "      <td>'Good one  _____   course, to which I say I kn...</td>\n",
              "      <td>Good one     course to which I say I know that...</td>\n",
              "    </tr>\n",
              "    <tr>\n",
              "      <th>3</th>\n",
              "      <td>INTJ</td>\n",
              "      <td>'Dear INTP,   I enjoyed our conversation the o...</td>\n",
              "      <td>'Dear INTP,   I enjoyed our conversation the o...</td>\n",
              "      <td>Dear INTP   I enjoyed our conversation the oth...</td>\n",
              "    </tr>\n",
              "    <tr>\n",
              "      <th>4</th>\n",
              "      <td>ENTJ</td>\n",
              "      <td>'You're fired.|||That's another silly misconce...</td>\n",
              "      <td>'You're fired.|||That's another silly misconce...</td>\n",
              "      <td>Youre firedThats another silly misconception T...</td>\n",
              "    </tr>\n",
              "  </tbody>\n",
              "</table>\n",
              "</div>"
            ],
            "text/plain": [
              "   type  ...                                               text\n",
              "0  INFJ  ...  and intj moments   sportscenter not top ten pl...\n",
              "1  ENTP  ...  Im finding the lack of me in these posts very ...\n",
              "2  INTP  ...  Good one     course to which I say I know that...\n",
              "3  INTJ  ...  Dear INTP   I enjoyed our conversation the oth...\n",
              "4  ENTJ  ...  Youre firedThats another silly misconception T...\n",
              "\n",
              "[5 rows x 4 columns]"
            ]
          },
          "metadata": {
            "tags": []
          },
          "execution_count": 18
        }
      ]
    },
    {
      "cell_type": "code",
      "metadata": {
        "colab": {
          "base_uri": "https://localhost:8080/",
          "height": 204
        },
        "id": "PnXnQCEAkQDI",
        "outputId": "ae209237-fc2b-4220-db0b-410276377be1"
      },
      "source": [
        "data['text']=data['text'].str.lower()\n",
        "data.head()"
      ],
      "execution_count": null,
      "outputs": [
        {
          "output_type": "execute_result",
          "data": {
            "text/html": [
              "<div>\n",
              "<style scoped>\n",
              "    .dataframe tbody tr th:only-of-type {\n",
              "        vertical-align: middle;\n",
              "    }\n",
              "\n",
              "    .dataframe tbody tr th {\n",
              "        vertical-align: top;\n",
              "    }\n",
              "\n",
              "    .dataframe thead th {\n",
              "        text-align: right;\n",
              "    }\n",
              "</style>\n",
              "<table border=\"1\" class=\"dataframe\">\n",
              "  <thead>\n",
              "    <tr style=\"text-align: right;\">\n",
              "      <th></th>\n",
              "      <th>type</th>\n",
              "      <th>posts</th>\n",
              "      <th>no_url</th>\n",
              "      <th>text</th>\n",
              "    </tr>\n",
              "  </thead>\n",
              "  <tbody>\n",
              "    <tr>\n",
              "      <th>0</th>\n",
              "      <td>INFJ</td>\n",
              "      <td>'http://www.youtube.com/watch?v=qsXHcwe3krw|||...</td>\n",
              "      <td>'and intj moments   sportscenter not top ten p...</td>\n",
              "      <td>and intj moments   sportscenter not top ten pl...</td>\n",
              "    </tr>\n",
              "    <tr>\n",
              "      <th>1</th>\n",
              "      <td>ENTP</td>\n",
              "      <td>'I'm finding the lack of me in these posts ver...</td>\n",
              "      <td>'I'm finding the lack of me in these posts ver...</td>\n",
              "      <td>im finding the lack of me in these posts very ...</td>\n",
              "    </tr>\n",
              "    <tr>\n",
              "      <th>2</th>\n",
              "      <td>INTP</td>\n",
              "      <td>'Good one  _____   https://www.youtube.com/wat...</td>\n",
              "      <td>'Good one  _____   course, to which I say I kn...</td>\n",
              "      <td>good one     course to which i say i know that...</td>\n",
              "    </tr>\n",
              "    <tr>\n",
              "      <th>3</th>\n",
              "      <td>INTJ</td>\n",
              "      <td>'Dear INTP,   I enjoyed our conversation the o...</td>\n",
              "      <td>'Dear INTP,   I enjoyed our conversation the o...</td>\n",
              "      <td>dear intp   i enjoyed our conversation the oth...</td>\n",
              "    </tr>\n",
              "    <tr>\n",
              "      <th>4</th>\n",
              "      <td>ENTJ</td>\n",
              "      <td>'You're fired.|||That's another silly misconce...</td>\n",
              "      <td>'You're fired.|||That's another silly misconce...</td>\n",
              "      <td>youre firedthats another silly misconception t...</td>\n",
              "    </tr>\n",
              "  </tbody>\n",
              "</table>\n",
              "</div>"
            ],
            "text/plain": [
              "   type  ...                                               text\n",
              "0  INFJ  ...  and intj moments   sportscenter not top ten pl...\n",
              "1  ENTP  ...  im finding the lack of me in these posts very ...\n",
              "2  INTP  ...  good one     course to which i say i know that...\n",
              "3  INTJ  ...  dear intp   i enjoyed our conversation the oth...\n",
              "4  ENTJ  ...  youre firedthats another silly misconception t...\n",
              "\n",
              "[5 rows x 4 columns]"
            ]
          },
          "metadata": {
            "tags": []
          },
          "execution_count": 19
        }
      ]
    },
    {
      "cell_type": "code",
      "metadata": {
        "colab": {
          "base_uri": "https://localhost:8080/",
          "height": 204
        },
        "id": "LAZojDXjka_T",
        "outputId": "67331942-310f-4d97-bc80-616b29e49577"
      },
      "source": [
        "clean_data = data[['type','text']]\n",
        "clean_data.head()"
      ],
      "execution_count": null,
      "outputs": [
        {
          "output_type": "execute_result",
          "data": {
            "text/html": [
              "<div>\n",
              "<style scoped>\n",
              "    .dataframe tbody tr th:only-of-type {\n",
              "        vertical-align: middle;\n",
              "    }\n",
              "\n",
              "    .dataframe tbody tr th {\n",
              "        vertical-align: top;\n",
              "    }\n",
              "\n",
              "    .dataframe thead th {\n",
              "        text-align: right;\n",
              "    }\n",
              "</style>\n",
              "<table border=\"1\" class=\"dataframe\">\n",
              "  <thead>\n",
              "    <tr style=\"text-align: right;\">\n",
              "      <th></th>\n",
              "      <th>type</th>\n",
              "      <th>text</th>\n",
              "    </tr>\n",
              "  </thead>\n",
              "  <tbody>\n",
              "    <tr>\n",
              "      <th>0</th>\n",
              "      <td>INFJ</td>\n",
              "      <td>and intj moments   sportscenter not top ten pl...</td>\n",
              "    </tr>\n",
              "    <tr>\n",
              "      <th>1</th>\n",
              "      <td>ENTP</td>\n",
              "      <td>im finding the lack of me in these posts very ...</td>\n",
              "    </tr>\n",
              "    <tr>\n",
              "      <th>2</th>\n",
              "      <td>INTP</td>\n",
              "      <td>good one     course to which i say i know that...</td>\n",
              "    </tr>\n",
              "    <tr>\n",
              "      <th>3</th>\n",
              "      <td>INTJ</td>\n",
              "      <td>dear intp   i enjoyed our conversation the oth...</td>\n",
              "    </tr>\n",
              "    <tr>\n",
              "      <th>4</th>\n",
              "      <td>ENTJ</td>\n",
              "      <td>youre firedthats another silly misconception t...</td>\n",
              "    </tr>\n",
              "  </tbody>\n",
              "</table>\n",
              "</div>"
            ],
            "text/plain": [
              "   type                                               text\n",
              "0  INFJ  and intj moments   sportscenter not top ten pl...\n",
              "1  ENTP  im finding the lack of me in these posts very ...\n",
              "2  INTP  good one     course to which i say i know that...\n",
              "3  INTJ  dear intp   i enjoyed our conversation the oth...\n",
              "4  ENTJ  youre firedthats another silly misconception t..."
            ]
          },
          "metadata": {
            "tags": []
          },
          "execution_count": 20
        }
      ]
    },
    {
      "cell_type": "markdown",
      "metadata": {
        "id": "zNoqVkUdW5Fn"
      },
      "source": [
        "# **Vectorize Text and Define Features**"
      ]
    },
    {
      "cell_type": "markdown",
      "metadata": {
        "id": "t6CArVZFK1DO"
      },
      "source": [
        "Spliting column into 4 combination"
      ]
    },
    {
      "cell_type": "code",
      "metadata": {
        "colab": {
          "base_uri": "https://localhost:8080/",
          "height": 204
        },
        "id": "z6mgdos_Kw-z",
        "outputId": "eb4b9bb6-d6b0-4fe4-d270-9d83ea19a770"
      },
      "source": [
        "split_data = clean_data[['type','text']].copy()\n",
        "split_data['E-I'] = split_data['type'].str.extract('(.)[N.S]',1)\n",
        "split_data['N-S'] = split_data['type'].str.extract('[E,I](.)[F,T]',1)\n",
        "split_data['T-F'] = split_data['type'].str.extract('[N,S](.)[J.P]',1)\n",
        "split_data['J-P'] = split_data['type'].str.extract('[F,T](.)',1)\n",
        "split_data.head()"
      ],
      "execution_count": null,
      "outputs": [
        {
          "output_type": "execute_result",
          "data": {
            "text/html": [
              "<div>\n",
              "<style scoped>\n",
              "    .dataframe tbody tr th:only-of-type {\n",
              "        vertical-align: middle;\n",
              "    }\n",
              "\n",
              "    .dataframe tbody tr th {\n",
              "        vertical-align: top;\n",
              "    }\n",
              "\n",
              "    .dataframe thead th {\n",
              "        text-align: right;\n",
              "    }\n",
              "</style>\n",
              "<table border=\"1\" class=\"dataframe\">\n",
              "  <thead>\n",
              "    <tr style=\"text-align: right;\">\n",
              "      <th></th>\n",
              "      <th>type</th>\n",
              "      <th>text</th>\n",
              "      <th>E-I</th>\n",
              "      <th>N-S</th>\n",
              "      <th>T-F</th>\n",
              "      <th>J-P</th>\n",
              "    </tr>\n",
              "  </thead>\n",
              "  <tbody>\n",
              "    <tr>\n",
              "      <th>0</th>\n",
              "      <td>INFJ</td>\n",
              "      <td>and intj moments   sportscenter not top ten pl...</td>\n",
              "      <td>I</td>\n",
              "      <td>N</td>\n",
              "      <td>F</td>\n",
              "      <td>J</td>\n",
              "    </tr>\n",
              "    <tr>\n",
              "      <th>1</th>\n",
              "      <td>ENTP</td>\n",
              "      <td>im finding the lack of me in these posts very ...</td>\n",
              "      <td>E</td>\n",
              "      <td>N</td>\n",
              "      <td>T</td>\n",
              "      <td>P</td>\n",
              "    </tr>\n",
              "    <tr>\n",
              "      <th>2</th>\n",
              "      <td>INTP</td>\n",
              "      <td>good one     course to which i say i know that...</td>\n",
              "      <td>I</td>\n",
              "      <td>N</td>\n",
              "      <td>T</td>\n",
              "      <td>P</td>\n",
              "    </tr>\n",
              "    <tr>\n",
              "      <th>3</th>\n",
              "      <td>INTJ</td>\n",
              "      <td>dear intp   i enjoyed our conversation the oth...</td>\n",
              "      <td>I</td>\n",
              "      <td>N</td>\n",
              "      <td>T</td>\n",
              "      <td>J</td>\n",
              "    </tr>\n",
              "    <tr>\n",
              "      <th>4</th>\n",
              "      <td>ENTJ</td>\n",
              "      <td>youre firedthats another silly misconception t...</td>\n",
              "      <td>E</td>\n",
              "      <td>N</td>\n",
              "      <td>T</td>\n",
              "      <td>J</td>\n",
              "    </tr>\n",
              "  </tbody>\n",
              "</table>\n",
              "</div>"
            ],
            "text/plain": [
              "   type                                               text E-I N-S T-F J-P\n",
              "0  INFJ  and intj moments   sportscenter not top ten pl...   I   N   F   J\n",
              "1  ENTP  im finding the lack of me in these posts very ...   E   N   T   P\n",
              "2  INTP  good one     course to which i say i know that...   I   N   T   P\n",
              "3  INTJ  dear intp   i enjoyed our conversation the oth...   I   N   T   J\n",
              "4  ENTJ  youre firedthats another silly misconception t...   E   N   T   J"
            ]
          },
          "metadata": {
            "tags": []
          },
          "execution_count": 21
        }
      ]
    },
    {
      "cell_type": "markdown",
      "metadata": {
        "id": "xo2JKi28LmSy"
      },
      "source": [
        "Encode letters into numeric"
      ]
    },
    {
      "cell_type": "code",
      "metadata": {
        "colab": {
          "base_uri": "https://localhost:8080/",
          "height": 204
        },
        "id": "2rTJmuQnLovl",
        "outputId": "61509a8b-bc4f-4d6d-ae44-a8fc02b74cc9"
      },
      "source": [
        "from sklearn.preprocessing import LabelEncoder\n",
        "letters = LabelEncoder()\n",
        "\n",
        "encoded_data = clean_data[['type','text']].copy()\n",
        "encoded_data['E0-I1'] =letters.fit_transform(split_data['E-I'])\n",
        "encoded_data['N0-S1'] =letters.fit_transform(split_data['N-S'])\n",
        "encoded_data['F0-T1'] =letters.fit_transform(split_data['T-F'])\n",
        "encoded_data['J0-P1'] =letters.fit_transform(split_data['J-P'])\n",
        "\n",
        "encoded_data.head()"
      ],
      "execution_count": null,
      "outputs": [
        {
          "output_type": "execute_result",
          "data": {
            "text/html": [
              "<div>\n",
              "<style scoped>\n",
              "    .dataframe tbody tr th:only-of-type {\n",
              "        vertical-align: middle;\n",
              "    }\n",
              "\n",
              "    .dataframe tbody tr th {\n",
              "        vertical-align: top;\n",
              "    }\n",
              "\n",
              "    .dataframe thead th {\n",
              "        text-align: right;\n",
              "    }\n",
              "</style>\n",
              "<table border=\"1\" class=\"dataframe\">\n",
              "  <thead>\n",
              "    <tr style=\"text-align: right;\">\n",
              "      <th></th>\n",
              "      <th>type</th>\n",
              "      <th>text</th>\n",
              "      <th>E0-I1</th>\n",
              "      <th>N0-S1</th>\n",
              "      <th>F0-T1</th>\n",
              "      <th>J0-P1</th>\n",
              "    </tr>\n",
              "  </thead>\n",
              "  <tbody>\n",
              "    <tr>\n",
              "      <th>0</th>\n",
              "      <td>INFJ</td>\n",
              "      <td>and intj moments   sportscenter not top ten pl...</td>\n",
              "      <td>1</td>\n",
              "      <td>0</td>\n",
              "      <td>0</td>\n",
              "      <td>0</td>\n",
              "    </tr>\n",
              "    <tr>\n",
              "      <th>1</th>\n",
              "      <td>ENTP</td>\n",
              "      <td>im finding the lack of me in these posts very ...</td>\n",
              "      <td>0</td>\n",
              "      <td>0</td>\n",
              "      <td>1</td>\n",
              "      <td>1</td>\n",
              "    </tr>\n",
              "    <tr>\n",
              "      <th>2</th>\n",
              "      <td>INTP</td>\n",
              "      <td>good one     course to which i say i know that...</td>\n",
              "      <td>1</td>\n",
              "      <td>0</td>\n",
              "      <td>1</td>\n",
              "      <td>1</td>\n",
              "    </tr>\n",
              "    <tr>\n",
              "      <th>3</th>\n",
              "      <td>INTJ</td>\n",
              "      <td>dear intp   i enjoyed our conversation the oth...</td>\n",
              "      <td>1</td>\n",
              "      <td>0</td>\n",
              "      <td>1</td>\n",
              "      <td>0</td>\n",
              "    </tr>\n",
              "    <tr>\n",
              "      <th>4</th>\n",
              "      <td>ENTJ</td>\n",
              "      <td>youre firedthats another silly misconception t...</td>\n",
              "      <td>0</td>\n",
              "      <td>0</td>\n",
              "      <td>1</td>\n",
              "      <td>0</td>\n",
              "    </tr>\n",
              "  </tbody>\n",
              "</table>\n",
              "</div>"
            ],
            "text/plain": [
              "   type                                               text  ...  F0-T1  J0-P1\n",
              "0  INFJ  and intj moments   sportscenter not top ten pl...  ...      0      0\n",
              "1  ENTP  im finding the lack of me in these posts very ...  ...      1      1\n",
              "2  INTP  good one     course to which i say i know that...  ...      1      1\n",
              "3  INTJ  dear intp   i enjoyed our conversation the oth...  ...      1      0\n",
              "4  ENTJ  youre firedthats another silly misconception t...  ...      1      0\n",
              "\n",
              "[5 rows x 6 columns]"
            ]
          },
          "metadata": {
            "tags": []
          },
          "execution_count": 22
        }
      ]
    },
    {
      "cell_type": "code",
      "metadata": {
        "colab": {
          "base_uri": "https://localhost:8080/"
        },
        "id": "IHqbWhUDNP5X",
        "outputId": "8367f11d-738f-4f69-f033-1130631cbefa"
      },
      "source": [
        "encoded_data.columns"
      ],
      "execution_count": null,
      "outputs": [
        {
          "output_type": "execute_result",
          "data": {
            "text/plain": [
              "Index(['type', 'text', 'E0-I1', 'N0-S1', 'F0-T1', 'J0-P1'], dtype='object')"
            ]
          },
          "metadata": {
            "tags": []
          },
          "execution_count": 23
        }
      ]
    },
    {
      "cell_type": "markdown",
      "metadata": {
        "id": "ld8mY3rANV7_"
      },
      "source": [
        "**Vectorize Text**"
      ]
    },
    {
      "cell_type": "markdown",
      "metadata": {
        "id": "iUabIvB7NwjX"
      },
      "source": [
        "Define X and Y"
      ]
    },
    {
      "cell_type": "code",
      "metadata": {
        "id": "BpoBMYviNXKS"
      },
      "source": [
        "x = encoded_data[\"text\"].values\n",
        "y_all = encoded_data.drop(columns=['type','text'])\n",
        "\n",
        "from sklearn.model_selection import train_test_split\n",
        "x_train, x_test, y_all_train, y_all_test = train_test_split(x,y_all,random_state=42)"
      ],
      "execution_count": null,
      "outputs": []
    },
    {
      "cell_type": "markdown",
      "metadata": {
        "id": "YiPqxTRONym-"
      },
      "source": [
        "Define TFIDF Vectorizer"
      ]
    },
    {
      "cell_type": "code",
      "metadata": {
        "id": "TE6PAEgaN2Eg"
      },
      "source": [
        "from sklearn.feature_extraction.text import TfidfVectorizer\n",
        "\n",
        "vectorizer = TfidfVectorizer(\n",
        "    max_features=17000,\n",
        "    min_df=7,\n",
        "    max_df=0.8,\n",
        "    stop_words='english',\n",
        "    ngram_range=(1,3),\n",
        ")"
      ],
      "execution_count": null,
      "outputs": []
    },
    {
      "cell_type": "code",
      "metadata": {
        "id": "qiJh40pJtHO1"
      },
      "source": [
        "import pickle\n",
        "pickle.dump(vectorizer, open('../Kaggle/vectorizer_indo.pkl','wb'))"
      ],
      "execution_count": null,
      "outputs": []
    },
    {
      "cell_type": "markdown",
      "metadata": {
        "id": "poYdoIZxOO95"
      },
      "source": [
        "Vectors for x"
      ]
    },
    {
      "cell_type": "code",
      "metadata": {
        "id": "dJi4Ouk_OQf2"
      },
      "source": [
        "x_train = vectorizer.fit_transform(x_train)\n",
        "x_test = vectorizer.transform(x_test)"
      ],
      "execution_count": null,
      "outputs": []
    },
    {
      "cell_type": "markdown",
      "metadata": {
        "id": "i2iMuLaEO_PM"
      },
      "source": [
        "# **Machine Learning Model using Logistic Regression**"
      ]
    },
    {
      "cell_type": "code",
      "metadata": {
        "colab": {
          "base_uri": "https://localhost:8080/"
        },
        "id": "582cwuhfPHus",
        "outputId": "bd346638-0d4e-43b1-b70b-fb31dce8a6ff"
      },
      "source": [
        "from sklearn.linear_model import LogisticRegression\n",
        "\n",
        "classifier = LogisticRegression(solver='lbfgs',random_state=1)\n",
        "classifier"
      ],
      "execution_count": null,
      "outputs": [
        {
          "output_type": "execute_result",
          "data": {
            "text/plain": [
              "LogisticRegression(C=1.0, class_weight=None, dual=False, fit_intercept=True,\n",
              "                   intercept_scaling=1, l1_ratio=None, max_iter=100,\n",
              "                   multi_class='auto', n_jobs=None, penalty='l2',\n",
              "                   random_state=1, solver='lbfgs', tol=0.0001, verbose=0,\n",
              "                   warm_start=False)"
            ]
          },
          "metadata": {
            "tags": []
          },
          "execution_count": 30
        }
      ]
    },
    {
      "cell_type": "markdown",
      "metadata": {
        "id": "G-6UbCwsPT5N"
      },
      "source": [
        "**Extrover(E) - Introvert(I) Type Combination**"
      ]
    },
    {
      "cell_type": "code",
      "metadata": {
        "colab": {
          "base_uri": "https://localhost:8080/"
        },
        "id": "Pusa0fAiPYyW",
        "outputId": "203081a7-c635-4f20-f953-f5bce24cbc4d"
      },
      "source": [
        "from imblearn.over_sampling import RandomOverSampler\n",
        "ros = RandomOverSampler(random_state=1)\n",
        "\n",
        "y_EI_train = y_all_train['E0-I1']\n",
        "y_EI_test = y_all_test['E0-I1']\n",
        "\n",
        "X_resampled_ros, y_EI_resampled_ros = ros.fit_sample(x_train, y_EI_train)\n",
        "\n",
        "from collections import Counter\n",
        "Counter(y_EI_resampled_ros)"
      ],
      "execution_count": null,
      "outputs": [
        {
          "output_type": "stream",
          "text": [
            "/usr/local/lib/python3.7/dist-packages/sklearn/externals/six.py:31: FutureWarning: The module is deprecated in version 0.21 and will be removed in version 0.23 since we've dropped support for Python 2.7. Please rely on the official version of six (https://pypi.org/project/six/).\n",
            "  \"(https://pypi.org/project/six/).\", FutureWarning)\n",
            "/usr/local/lib/python3.7/dist-packages/sklearn/utils/deprecation.py:144: FutureWarning: The sklearn.neighbors.base module is  deprecated in version 0.22 and will be removed in version 0.24. The corresponding classes / functions should instead be imported from sklearn.neighbors. Anything that cannot be imported from sklearn.neighbors is now part of the private API.\n",
            "  warnings.warn(message, FutureWarning)\n",
            "/usr/local/lib/python3.7/dist-packages/sklearn/utils/deprecation.py:87: FutureWarning: Function safe_indexing is deprecated; safe_indexing is deprecated in version 0.22 and will be removed in version 0.24.\n",
            "  warnings.warn(msg, category=FutureWarning)\n"
          ],
          "name": "stderr"
        },
        {
          "output_type": "execute_result",
          "data": {
            "text/plain": [
              "Counter({0: 4980, 1: 4980})"
            ]
          },
          "metadata": {
            "tags": []
          },
          "execution_count": 31
        }
      ]
    },
    {
      "cell_type": "markdown",
      "metadata": {
        "id": "DJJHW26-RsdQ"
      },
      "source": [
        "Fit Introvert-Extrovert Combination with Oversampled (x_train, y_EI_train)"
      ]
    },
    {
      "cell_type": "code",
      "metadata": {
        "colab": {
          "base_uri": "https://localhost:8080/"
        },
        "id": "M9jqZejwReC0",
        "outputId": "646aed05-1b99-4493-b615-670735d1fce0"
      },
      "source": [
        "classifier.fit(X_resampled_ros, y_EI_resampled_ros)"
      ],
      "execution_count": null,
      "outputs": [
        {
          "output_type": "execute_result",
          "data": {
            "text/plain": [
              "LogisticRegression(C=1.0, class_weight=None, dual=False, fit_intercept=True,\n",
              "                   intercept_scaling=1, l1_ratio=None, max_iter=100,\n",
              "                   multi_class='auto', n_jobs=None, penalty='l2',\n",
              "                   random_state=1, solver='lbfgs', tol=0.0001, verbose=0,\n",
              "                   warm_start=False)"
            ]
          },
          "metadata": {
            "tags": []
          },
          "execution_count": 32
        }
      ]
    },
    {
      "cell_type": "code",
      "metadata": {
        "id": "UdGGuAIWRzh6"
      },
      "source": [
        "y_EI_pred_ros = classifier.predict(x_test)\n",
        "EI_result = pd.DataFrame({\"Prediction\": y_EI_pred_ros, \"Actual\": y_EI_test})"
      ],
      "execution_count": null,
      "outputs": []
    },
    {
      "cell_type": "code",
      "metadata": {
        "id": "phXX-CRyS2Ot"
      },
      "source": [
        "import pickle\n",
        "pickle.dump(classifier, open('../Kaggle/model_EI.pkl','wb'))"
      ],
      "execution_count": null,
      "outputs": []
    },
    {
      "cell_type": "markdown",
      "metadata": {
        "id": "lVNZPE_qTrCU"
      },
      "source": [
        "**N-S Combination**"
      ]
    },
    {
      "cell_type": "code",
      "metadata": {
        "colab": {
          "base_uri": "https://localhost:8080/"
        },
        "id": "U1IadtHTTtiT",
        "outputId": "c5b8cd43-45b2-449c-b2fe-605581d671a1"
      },
      "source": [
        "y_NS_train = y_all_train['N0-S1']\n",
        "y_NS_test = y_all_test['N0-S1']\n",
        "\n",
        "X_resampled_ros, y_NS_resampled_ros = ros.fit_sample(x_train, y_NS_train)\n",
        "Counter(y_NS_resampled_ros)"
      ],
      "execution_count": null,
      "outputs": [
        {
          "output_type": "stream",
          "text": [
            "/usr/local/lib/python3.7/dist-packages/sklearn/utils/deprecation.py:87: FutureWarning: Function safe_indexing is deprecated; safe_indexing is deprecated in version 0.22 and will be removed in version 0.24.\n",
            "  warnings.warn(msg, category=FutureWarning)\n"
          ],
          "name": "stderr"
        },
        {
          "output_type": "execute_result",
          "data": {
            "text/plain": [
              "Counter({0: 5616, 1: 5616})"
            ]
          },
          "metadata": {
            "tags": []
          },
          "execution_count": 35
        }
      ]
    },
    {
      "cell_type": "code",
      "metadata": {
        "colab": {
          "base_uri": "https://localhost:8080/"
        },
        "id": "TLQbmN7EUSf9",
        "outputId": "e2c95a2d-259a-4c1e-87df-3cb911a38557"
      },
      "source": [
        "classifier.fit(X_resampled_ros, y_NS_resampled_ros)"
      ],
      "execution_count": null,
      "outputs": [
        {
          "output_type": "execute_result",
          "data": {
            "text/plain": [
              "LogisticRegression(C=1.0, class_weight=None, dual=False, fit_intercept=True,\n",
              "                   intercept_scaling=1, l1_ratio=None, max_iter=100,\n",
              "                   multi_class='auto', n_jobs=None, penalty='l2',\n",
              "                   random_state=1, solver='lbfgs', tol=0.0001, verbose=0,\n",
              "                   warm_start=False)"
            ]
          },
          "metadata": {
            "tags": []
          },
          "execution_count": 36
        }
      ]
    },
    {
      "cell_type": "code",
      "metadata": {
        "colab": {
          "base_uri": "https://localhost:8080/",
          "height": 204
        },
        "id": "yejSRKO5UZW8",
        "outputId": "191a50ad-c7fc-4304-8915-e0990ac5964f"
      },
      "source": [
        "y_NS_pred_ros = classifier.predict(x_test)\n",
        "NS_result = pd.DataFrame({\"Prediction\": y_NS_pred_ros, \"Actual\": y_NS_test})\n",
        "NS_result.head(5)"
      ],
      "execution_count": null,
      "outputs": [
        {
          "output_type": "execute_result",
          "data": {
            "text/html": [
              "<div>\n",
              "<style scoped>\n",
              "    .dataframe tbody tr th:only-of-type {\n",
              "        vertical-align: middle;\n",
              "    }\n",
              "\n",
              "    .dataframe tbody tr th {\n",
              "        vertical-align: top;\n",
              "    }\n",
              "\n",
              "    .dataframe thead th {\n",
              "        text-align: right;\n",
              "    }\n",
              "</style>\n",
              "<table border=\"1\" class=\"dataframe\">\n",
              "  <thead>\n",
              "    <tr style=\"text-align: right;\">\n",
              "      <th></th>\n",
              "      <th>Prediction</th>\n",
              "      <th>Actual</th>\n",
              "    </tr>\n",
              "  </thead>\n",
              "  <tbody>\n",
              "    <tr>\n",
              "      <th>2802</th>\n",
              "      <td>0</td>\n",
              "      <td>0</td>\n",
              "    </tr>\n",
              "    <tr>\n",
              "      <th>2166</th>\n",
              "      <td>0</td>\n",
              "      <td>0</td>\n",
              "    </tr>\n",
              "    <tr>\n",
              "      <th>1919</th>\n",
              "      <td>0</td>\n",
              "      <td>0</td>\n",
              "    </tr>\n",
              "    <tr>\n",
              "      <th>360</th>\n",
              "      <td>0</td>\n",
              "      <td>0</td>\n",
              "    </tr>\n",
              "    <tr>\n",
              "      <th>1115</th>\n",
              "      <td>0</td>\n",
              "      <td>0</td>\n",
              "    </tr>\n",
              "  </tbody>\n",
              "</table>\n",
              "</div>"
            ],
            "text/plain": [
              "      Prediction  Actual\n",
              "2802           0       0\n",
              "2166           0       0\n",
              "1919           0       0\n",
              "360            0       0\n",
              "1115           0       0"
            ]
          },
          "metadata": {
            "tags": []
          },
          "execution_count": 37
        }
      ]
    },
    {
      "cell_type": "code",
      "metadata": {
        "id": "Bxyc1BzRUxHc"
      },
      "source": [
        "import pickle\n",
        "pickle.dump(classifier, open('../Kaggle/model_NS.pkl','wb'))"
      ],
      "execution_count": null,
      "outputs": []
    },
    {
      "cell_type": "markdown",
      "metadata": {
        "id": "V6qrng2sU8Zt"
      },
      "source": [
        "**F-T Combination**"
      ]
    },
    {
      "cell_type": "code",
      "metadata": {
        "colab": {
          "base_uri": "https://localhost:8080/"
        },
        "id": "L02f4KopVAl6",
        "outputId": "54ee8a40-1a41-4ddf-eafb-15efd7272de6"
      },
      "source": [
        "y_FT_train = y_all_train['F0-T1']\n",
        "y_FT_test = y_all_test['F0-T1']\n",
        "\n",
        "X_resampled_ros, y_FT_resampled_ros = ros.fit_sample(x_train, y_FT_train)\n",
        "Counter(y_FT_resampled_ros)"
      ],
      "execution_count": null,
      "outputs": [
        {
          "output_type": "stream",
          "text": [
            "/usr/local/lib/python3.7/dist-packages/sklearn/utils/deprecation.py:87: FutureWarning: Function safe_indexing is deprecated; safe_indexing is deprecated in version 0.22 and will be removed in version 0.24.\n",
            "  warnings.warn(msg, category=FutureWarning)\n"
          ],
          "name": "stderr"
        },
        {
          "output_type": "execute_result",
          "data": {
            "text/plain": [
              "Counter({0: 3515, 1: 3515})"
            ]
          },
          "metadata": {
            "tags": []
          },
          "execution_count": 39
        }
      ]
    },
    {
      "cell_type": "code",
      "metadata": {
        "colab": {
          "base_uri": "https://localhost:8080/"
        },
        "id": "MzlXTlMpVdqH",
        "outputId": "f73c5c1e-c2c4-4d28-e48c-f1c590b15983"
      },
      "source": [
        "classifier.fit(X_resampled_ros, y_FT_resampled_ros)"
      ],
      "execution_count": null,
      "outputs": [
        {
          "output_type": "execute_result",
          "data": {
            "text/plain": [
              "LogisticRegression(C=1.0, class_weight=None, dual=False, fit_intercept=True,\n",
              "                   intercept_scaling=1, l1_ratio=None, max_iter=100,\n",
              "                   multi_class='auto', n_jobs=None, penalty='l2',\n",
              "                   random_state=1, solver='lbfgs', tol=0.0001, verbose=0,\n",
              "                   warm_start=False)"
            ]
          },
          "metadata": {
            "tags": []
          },
          "execution_count": 40
        }
      ]
    },
    {
      "cell_type": "code",
      "metadata": {
        "colab": {
          "base_uri": "https://localhost:8080/",
          "height": 204
        },
        "id": "ZJXtxNvqVjx8",
        "outputId": "8902679a-6090-4658-b0cc-c40bdf50e6ff"
      },
      "source": [
        "y_FT_pred_ros = classifier.predict(x_test)\n",
        "FT_result = pd.DataFrame({\"Prediction\": y_FT_pred_ros, \"Actual\":y_FT_test})\n",
        "FT_result.head()"
      ],
      "execution_count": null,
      "outputs": [
        {
          "output_type": "execute_result",
          "data": {
            "text/html": [
              "<div>\n",
              "<style scoped>\n",
              "    .dataframe tbody tr th:only-of-type {\n",
              "        vertical-align: middle;\n",
              "    }\n",
              "\n",
              "    .dataframe tbody tr th {\n",
              "        vertical-align: top;\n",
              "    }\n",
              "\n",
              "    .dataframe thead th {\n",
              "        text-align: right;\n",
              "    }\n",
              "</style>\n",
              "<table border=\"1\" class=\"dataframe\">\n",
              "  <thead>\n",
              "    <tr style=\"text-align: right;\">\n",
              "      <th></th>\n",
              "      <th>Prediction</th>\n",
              "      <th>Actual</th>\n",
              "    </tr>\n",
              "  </thead>\n",
              "  <tbody>\n",
              "    <tr>\n",
              "      <th>2802</th>\n",
              "      <td>1</td>\n",
              "      <td>1</td>\n",
              "    </tr>\n",
              "    <tr>\n",
              "      <th>2166</th>\n",
              "      <td>1</td>\n",
              "      <td>1</td>\n",
              "    </tr>\n",
              "    <tr>\n",
              "      <th>1919</th>\n",
              "      <td>1</td>\n",
              "      <td>1</td>\n",
              "    </tr>\n",
              "    <tr>\n",
              "      <th>360</th>\n",
              "      <td>0</td>\n",
              "      <td>0</td>\n",
              "    </tr>\n",
              "    <tr>\n",
              "      <th>1115</th>\n",
              "      <td>1</td>\n",
              "      <td>1</td>\n",
              "    </tr>\n",
              "  </tbody>\n",
              "</table>\n",
              "</div>"
            ],
            "text/plain": [
              "      Prediction  Actual\n",
              "2802           1       1\n",
              "2166           1       1\n",
              "1919           1       1\n",
              "360            0       0\n",
              "1115           1       1"
            ]
          },
          "metadata": {
            "tags": []
          },
          "execution_count": 41
        }
      ]
    },
    {
      "cell_type": "code",
      "metadata": {
        "id": "9cOLx4SCWR2T"
      },
      "source": [
        "import pickle\n",
        "pickle.dump(classifier, open('../Kaggle/model_FT.pkl','wb'))"
      ],
      "execution_count": null,
      "outputs": []
    },
    {
      "cell_type": "markdown",
      "metadata": {
        "id": "OifDvkb7XyGN"
      },
      "source": [
        "**J-P Combination**"
      ]
    },
    {
      "cell_type": "code",
      "metadata": {
        "colab": {
          "base_uri": "https://localhost:8080/"
        },
        "id": "PVxvnmgCX0cK",
        "outputId": "530f311a-35d6-42c5-e6e1-a373a3390beb"
      },
      "source": [
        "y_JP_train = y_all_train['J0-P1']\n",
        "y_JP_test = y_all_test['J0-P1']\n",
        "\n",
        "X_resampled_ros, y_JP_resampled_ros = ros.fit_sample(x_train, y_JP_train)\n",
        "Counter(y_JP_resampled_ros)"
      ],
      "execution_count": null,
      "outputs": [
        {
          "output_type": "stream",
          "text": [
            "/usr/local/lib/python3.7/dist-packages/sklearn/utils/deprecation.py:87: FutureWarning: Function safe_indexing is deprecated; safe_indexing is deprecated in version 0.22 and will be removed in version 0.24.\n",
            "  warnings.warn(msg, category=FutureWarning)\n"
          ],
          "name": "stderr"
        },
        {
          "output_type": "execute_result",
          "data": {
            "text/plain": [
              "Counter({0: 3914, 1: 3914})"
            ]
          },
          "metadata": {
            "tags": []
          },
          "execution_count": 43
        }
      ]
    },
    {
      "cell_type": "code",
      "metadata": {
        "colab": {
          "base_uri": "https://localhost:8080/"
        },
        "id": "Mk0umkBvXRB8",
        "outputId": "9bb6b42b-203c-4102-f1c6-7e1fdc2c4fb7"
      },
      "source": [
        "classifier.fit(X_resampled_ros, y_JP_resampled_ros)"
      ],
      "execution_count": null,
      "outputs": [
        {
          "output_type": "execute_result",
          "data": {
            "text/plain": [
              "LogisticRegression(C=1.0, class_weight=None, dual=False, fit_intercept=True,\n",
              "                   intercept_scaling=1, l1_ratio=None, max_iter=100,\n",
              "                   multi_class='auto', n_jobs=None, penalty='l2',\n",
              "                   random_state=1, solver='lbfgs', tol=0.0001, verbose=0,\n",
              "                   warm_start=False)"
            ]
          },
          "metadata": {
            "tags": []
          },
          "execution_count": 44
        }
      ]
    },
    {
      "cell_type": "code",
      "metadata": {
        "colab": {
          "base_uri": "https://localhost:8080/",
          "height": 204
        },
        "id": "n8escPDJYO26",
        "outputId": "1cad10f6-94a6-438e-bb56-d6fd145c93ad"
      },
      "source": [
        "y_JP_pred_ros = classifier.predict(x_test)\n",
        "JP_result = pd.DataFrame({\"Prediction\": y_JP_pred_ros,\"Actual\": y_JP_test})\n",
        "JP_result.head()"
      ],
      "execution_count": null,
      "outputs": [
        {
          "output_type": "execute_result",
          "data": {
            "text/html": [
              "<div>\n",
              "<style scoped>\n",
              "    .dataframe tbody tr th:only-of-type {\n",
              "        vertical-align: middle;\n",
              "    }\n",
              "\n",
              "    .dataframe tbody tr th {\n",
              "        vertical-align: top;\n",
              "    }\n",
              "\n",
              "    .dataframe thead th {\n",
              "        text-align: right;\n",
              "    }\n",
              "</style>\n",
              "<table border=\"1\" class=\"dataframe\">\n",
              "  <thead>\n",
              "    <tr style=\"text-align: right;\">\n",
              "      <th></th>\n",
              "      <th>Prediction</th>\n",
              "      <th>Actual</th>\n",
              "    </tr>\n",
              "  </thead>\n",
              "  <tbody>\n",
              "    <tr>\n",
              "      <th>2802</th>\n",
              "      <td>1</td>\n",
              "      <td>1</td>\n",
              "    </tr>\n",
              "    <tr>\n",
              "      <th>2166</th>\n",
              "      <td>0</td>\n",
              "      <td>0</td>\n",
              "    </tr>\n",
              "    <tr>\n",
              "      <th>1919</th>\n",
              "      <td>1</td>\n",
              "      <td>1</td>\n",
              "    </tr>\n",
              "    <tr>\n",
              "      <th>360</th>\n",
              "      <td>0</td>\n",
              "      <td>1</td>\n",
              "    </tr>\n",
              "    <tr>\n",
              "      <th>1115</th>\n",
              "      <td>0</td>\n",
              "      <td>0</td>\n",
              "    </tr>\n",
              "  </tbody>\n",
              "</table>\n",
              "</div>"
            ],
            "text/plain": [
              "      Prediction  Actual\n",
              "2802           1       1\n",
              "2166           0       0\n",
              "1919           1       1\n",
              "360            0       1\n",
              "1115           0       0"
            ]
          },
          "metadata": {
            "tags": []
          },
          "execution_count": 45
        }
      ]
    },
    {
      "cell_type": "code",
      "metadata": {
        "id": "TguYOukIYl_9"
      },
      "source": [
        "import pickle\n",
        "pickle.dump(classifier, open('../Kaggle/model_JP.pkl','wb'))"
      ],
      "execution_count": null,
      "outputs": []
    },
    {
      "cell_type": "markdown",
      "metadata": {
        "id": "aY-IVJ8jYtw5"
      },
      "source": [
        "# **Show the Results**"
      ]
    },
    {
      "cell_type": "code",
      "metadata": {
        "colab": {
          "base_uri": "https://localhost:8080/"
        },
        "id": "tpRvBqftYyeC",
        "outputId": "7043ff61-c2a1-48d0-f623-0afc7ede6032"
      },
      "source": [
        "from sklearn.metrics import accuracy_score\n",
        "print(f\"E-I:{accuracy_score(y_EI_test, y_EI_pred_ros):.3f}\")\n",
        "print(f\"N-S:{accuracy_score(y_NS_test, y_NS_pred_ros):.3f}\")\n",
        "print(f\"F-T:{accuracy_score(y_FT_test, y_FT_pred_ros):.3f}\")\n",
        "print(f\"J-P:{accuracy_score(y_JP_test, y_JP_pred_ros):.3f}\")"
      ],
      "execution_count": null,
      "outputs": [
        {
          "output_type": "stream",
          "text": [
            "E-I:0.852\n",
            "N-S:0.902\n",
            "F-T:0.849\n",
            "J-P:0.799\n"
          ],
          "name": "stdout"
        }
      ]
    },
    {
      "cell_type": "markdown",
      "metadata": {
        "id": "53GoP7pa6dkR"
      },
      "source": [
        "# **Reference to buld this model**"
      ]
    },
    {
      "cell_type": "markdown",
      "metadata": {
        "id": "fH4tLRJx6jT7"
      },
      "source": [
        "Datasets that we are using to build this model is MBTI Datasets that open access in Kaggle\n",
        "\n",
        "Link of the datasets can be access here: https://www.kaggle.com/datasnaek/mbti-type"
      ]
    },
    {
      "cell_type": "markdown",
      "metadata": {
        "id": "RH5zzrAh6rrH"
      },
      "source": [
        "We also read deck of Davenel Denis, Jing Jin, Steven Walk, and Shaun Wang about Deep MBTI"
      ]
    }
  ]
}